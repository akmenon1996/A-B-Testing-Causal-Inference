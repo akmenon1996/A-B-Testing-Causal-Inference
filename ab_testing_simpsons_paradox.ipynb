{
 "cells": [
  {
   "cell_type": "code",
   "execution_count": 1,
   "metadata": {},
   "outputs": [
    {
     "data": {
      "text/markdown": [
       "# A/B testing Data Generation and Experiments \n"
      ],
      "text/plain": [
       "<IPython.core.display.Markdown object>"
      ]
     },
     "metadata": {},
     "output_type": "display_data"
    }
   ],
   "source": [
    "%%markdown\n",
    "# A/B testing Data Generation and Experiments "
   ]
  },
  {
   "cell_type": "code",
   "execution_count": 2,
   "metadata": {},
   "outputs": [],
   "source": [
    "import pandas as pd \n",
    "import numpy as np \n",
    "from random import random\n",
    "import scipy.stats as scs\n",
    "import pandas as pd\n",
    "import datetime\n",
    "import math\n",
    "import statsmodels.api as sm\n",
    "import scipy.stats.distributions as dist"
   ]
  },
  {
   "cell_type": "code",
   "execution_count": 3,
   "metadata": {},
   "outputs": [
    {
     "data": {
      "text/markdown": [
       "## Data Generation\n"
      ],
      "text/plain": [
       "<IPython.core.display.Markdown object>"
      ]
     },
     "metadata": {},
     "output_type": "display_data"
    }
   ],
   "source": [
    "%%markdown\n",
    "## Data Generation"
   ]
  },
  {
   "cell_type": "code",
   "execution_count": 4,
   "metadata": {},
   "outputs": [],
   "source": [
    "np.random.seed(10)"
   ]
  },
  {
   "cell_type": "code",
   "execution_count": 5,
   "metadata": {},
   "outputs": [],
   "source": [
    "def random_dates(start, end, n=10):\n",
    "    start_u = start.value//10**9\n",
    "    end_u = end.value//10**9\n",
    "    return pd.to_datetime(np.random.randint(start_u, end_u, n), unit='s')"
   ]
  },
  {
   "cell_type": "code",
   "execution_count": 6,
   "metadata": {},
   "outputs": [],
   "source": [
    "start = pd.to_datetime('2020-01-01')\n",
    "end = pd.to_datetime('2020-01-03')\n",
    "dates = random_dates(start, end,n=10000)\n",
    "customer_ids = [i for i in range(1,10001)]\n",
    "df = pd.DataFrame(columns=['Customer Id','Date'])\n",
    "df['Customer Id'] = customer_ids\n",
    "df['Date'] = dates\n",
    "df = df.sort_values('Date')\n",
    "group = []\n",
    "for i in range(len(df)):\n",
    "    a = 'A' if 0.501>np.random.random() else 'B'\n",
    "    group.append(a)\n",
    "df['Group'] = group\n",
    "df['Conversion Rate'] = 0.05\n",
    "df['Time'] = [datetime.datetime.time(i) for i in df['Date']]\n",
    "df['Conversion Status'] = 0"
   ]
  },
  {
   "cell_type": "code",
   "execution_count": 7,
   "metadata": {},
   "outputs": [],
   "source": [
    "base_conversion = 0.05\n",
    "morning_conversion = 0.02\n",
    "midnight_conversion = 0.05\n",
    "evening_conversion = 0.1"
   ]
  },
  {
   "cell_type": "code",
   "execution_count": 8,
   "metadata": {},
   "outputs": [],
   "source": [
    "df.loc[(df['Group'] == 'B') & (df['Time'] >= datetime.time(8,0,0)) &\n",
    "       (df['Time'] < datetime.time(16,0,0)),'Conversion Rate'] = morning_conversion\n",
    "\n",
    "df.loc[(df['Group'] == 'B') &(df['Time'] >= datetime.time(0,0,0)) &\n",
    "       (df['Time'] < datetime.time(8,0,0)),'Conversion Rate'] = midnight_conversion\n",
    "\n",
    "df.loc[(df['Group'] == 'B') & (df['Time'] >= datetime.time(16,0,0)) &\n",
    "       (df['Time'] < datetime.time(23,59,59)),'Conversion Rate'] = evening_conversion\n",
    "\n",
    "status = []\n",
    "for index,rows in df.iterrows():\n",
    "    a = 1 if rows['Conversion Rate']>np.random.random() else 0\n",
    "    status.append(a)\n",
    "df['Conversion Status'] = status\n",
    "#df = df.drop('Time',axis=1)"
   ]
  },
  {
   "cell_type": "code",
   "execution_count": 9,
   "metadata": {},
   "outputs": [
    {
     "data": {
      "text/html": [
       "<div>\n",
       "<style scoped>\n",
       "    .dataframe tbody tr th:only-of-type {\n",
       "        vertical-align: middle;\n",
       "    }\n",
       "\n",
       "    .dataframe tbody tr th {\n",
       "        vertical-align: top;\n",
       "    }\n",
       "\n",
       "    .dataframe thead th {\n",
       "        text-align: right;\n",
       "    }\n",
       "</style>\n",
       "<table border=\"1\" class=\"dataframe\">\n",
       "  <thead>\n",
       "    <tr style=\"text-align: right;\">\n",
       "      <th></th>\n",
       "      <th>Customer Id</th>\n",
       "      <th>Date</th>\n",
       "      <th>Group</th>\n",
       "      <th>Conversion Rate</th>\n",
       "      <th>Time</th>\n",
       "      <th>Conversion Status</th>\n",
       "    </tr>\n",
       "  </thead>\n",
       "  <tbody>\n",
       "    <tr>\n",
       "      <td>8850</td>\n",
       "      <td>8851</td>\n",
       "      <td>2020-01-01 00:00:21</td>\n",
       "      <td>B</td>\n",
       "      <td>0.05</td>\n",
       "      <td>00:00:21</td>\n",
       "      <td>0</td>\n",
       "    </tr>\n",
       "    <tr>\n",
       "      <td>6045</td>\n",
       "      <td>6046</td>\n",
       "      <td>2020-01-01 00:00:50</td>\n",
       "      <td>A</td>\n",
       "      <td>0.05</td>\n",
       "      <td>00:00:50</td>\n",
       "      <td>0</td>\n",
       "    </tr>\n",
       "    <tr>\n",
       "      <td>1973</td>\n",
       "      <td>1974</td>\n",
       "      <td>2020-01-01 00:00:50</td>\n",
       "      <td>B</td>\n",
       "      <td>0.05</td>\n",
       "      <td>00:00:50</td>\n",
       "      <td>0</td>\n",
       "    </tr>\n",
       "    <tr>\n",
       "      <td>6181</td>\n",
       "      <td>6182</td>\n",
       "      <td>2020-01-01 00:01:28</td>\n",
       "      <td>A</td>\n",
       "      <td>0.05</td>\n",
       "      <td>00:01:28</td>\n",
       "      <td>0</td>\n",
       "    </tr>\n",
       "    <tr>\n",
       "      <td>8107</td>\n",
       "      <td>8108</td>\n",
       "      <td>2020-01-01 00:01:46</td>\n",
       "      <td>A</td>\n",
       "      <td>0.05</td>\n",
       "      <td>00:01:46</td>\n",
       "      <td>0</td>\n",
       "    </tr>\n",
       "    <tr>\n",
       "      <td>...</td>\n",
       "      <td>...</td>\n",
       "      <td>...</td>\n",
       "      <td>...</td>\n",
       "      <td>...</td>\n",
       "      <td>...</td>\n",
       "      <td>...</td>\n",
       "    </tr>\n",
       "    <tr>\n",
       "      <td>7268</td>\n",
       "      <td>7269</td>\n",
       "      <td>2020-01-02 23:59:12</td>\n",
       "      <td>B</td>\n",
       "      <td>0.10</td>\n",
       "      <td>23:59:12</td>\n",
       "      <td>0</td>\n",
       "    </tr>\n",
       "    <tr>\n",
       "      <td>2012</td>\n",
       "      <td>2013</td>\n",
       "      <td>2020-01-02 23:59:15</td>\n",
       "      <td>B</td>\n",
       "      <td>0.10</td>\n",
       "      <td>23:59:15</td>\n",
       "      <td>0</td>\n",
       "    </tr>\n",
       "    <tr>\n",
       "      <td>9062</td>\n",
       "      <td>9063</td>\n",
       "      <td>2020-01-02 23:59:19</td>\n",
       "      <td>A</td>\n",
       "      <td>0.05</td>\n",
       "      <td>23:59:19</td>\n",
       "      <td>0</td>\n",
       "    </tr>\n",
       "    <tr>\n",
       "      <td>9203</td>\n",
       "      <td>9204</td>\n",
       "      <td>2020-01-02 23:59:36</td>\n",
       "      <td>A</td>\n",
       "      <td>0.05</td>\n",
       "      <td>23:59:36</td>\n",
       "      <td>0</td>\n",
       "    </tr>\n",
       "    <tr>\n",
       "      <td>7745</td>\n",
       "      <td>7746</td>\n",
       "      <td>2020-01-02 23:59:38</td>\n",
       "      <td>B</td>\n",
       "      <td>0.10</td>\n",
       "      <td>23:59:38</td>\n",
       "      <td>0</td>\n",
       "    </tr>\n",
       "  </tbody>\n",
       "</table>\n",
       "<p>10000 rows × 6 columns</p>\n",
       "</div>"
      ],
      "text/plain": [
       "      Customer Id                Date Group  Conversion Rate      Time  \\\n",
       "8850         8851 2020-01-01 00:00:21     B             0.05  00:00:21   \n",
       "6045         6046 2020-01-01 00:00:50     A             0.05  00:00:50   \n",
       "1973         1974 2020-01-01 00:00:50     B             0.05  00:00:50   \n",
       "6181         6182 2020-01-01 00:01:28     A             0.05  00:01:28   \n",
       "8107         8108 2020-01-01 00:01:46     A             0.05  00:01:46   \n",
       "...           ...                 ...   ...              ...       ...   \n",
       "7268         7269 2020-01-02 23:59:12     B             0.10  23:59:12   \n",
       "2012         2013 2020-01-02 23:59:15     B             0.10  23:59:15   \n",
       "9062         9063 2020-01-02 23:59:19     A             0.05  23:59:19   \n",
       "9203         9204 2020-01-02 23:59:36     A             0.05  23:59:36   \n",
       "7745         7746 2020-01-02 23:59:38     B             0.10  23:59:38   \n",
       "\n",
       "      Conversion Status  \n",
       "8850                  0  \n",
       "6045                  0  \n",
       "1973                  0  \n",
       "6181                  0  \n",
       "8107                  0  \n",
       "...                 ...  \n",
       "7268                  0  \n",
       "2012                  0  \n",
       "9062                  0  \n",
       "9203                  0  \n",
       "7745                  0  \n",
       "\n",
       "[10000 rows x 6 columns]"
      ]
     },
     "execution_count": 9,
     "metadata": {},
     "output_type": "execute_result"
    }
   ],
   "source": [
    "df"
   ]
  },
  {
   "cell_type": "code",
   "execution_count": 10,
   "metadata": {},
   "outputs": [
    {
     "data": {
      "text/markdown": [
       "# Experiment 1\n",
       "## A/B testing across all days and complete population. \n"
      ],
      "text/plain": [
       "<IPython.core.display.Markdown object>"
      ]
     },
     "metadata": {},
     "output_type": "display_data"
    }
   ],
   "source": [
    "%%markdown\n",
    "# Experiment 1\n",
    "## A/B testing across all days and complete population. "
   ]
  },
  {
   "cell_type": "code",
   "execution_count": 11,
   "metadata": {},
   "outputs": [
    {
     "data": {
      "text/html": [
       "<div>\n",
       "<style scoped>\n",
       "    .dataframe tbody tr th:only-of-type {\n",
       "        vertical-align: middle;\n",
       "    }\n",
       "\n",
       "    .dataframe tbody tr th {\n",
       "        vertical-align: top;\n",
       "    }\n",
       "\n",
       "    .dataframe thead th {\n",
       "        text-align: right;\n",
       "    }\n",
       "</style>\n",
       "<table border=\"1\" class=\"dataframe\">\n",
       "  <thead>\n",
       "    <tr style=\"text-align: right;\">\n",
       "      <th></th>\n",
       "      <th>Conversion Status</th>\n",
       "      <th>total</th>\n",
       "      <th>rate</th>\n",
       "    </tr>\n",
       "    <tr>\n",
       "      <th>Group</th>\n",
       "      <th></th>\n",
       "      <th></th>\n",
       "      <th></th>\n",
       "    </tr>\n",
       "  </thead>\n",
       "  <tbody>\n",
       "    <tr>\n",
       "      <td>A</td>\n",
       "      <td>247</td>\n",
       "      <td>4938</td>\n",
       "      <td>0.050020</td>\n",
       "    </tr>\n",
       "    <tr>\n",
       "      <td>B</td>\n",
       "      <td>285</td>\n",
       "      <td>5062</td>\n",
       "      <td>0.056302</td>\n",
       "    </tr>\n",
       "  </tbody>\n",
       "</table>\n",
       "</div>"
      ],
      "text/plain": [
       "       Conversion Status  total      rate\n",
       "Group                                    \n",
       "A                    247   4938  0.050020\n",
       "B                    285   5062  0.056302"
      ]
     },
     "execution_count": 11,
     "metadata": {},
     "output_type": "execute_result"
    }
   ],
   "source": [
    "df_summary = df.pivot_table(values='Conversion Status', index='Group', aggfunc=np.sum)\n",
    "df_summary['total'] = df.pivot_table(values='Conversion Status', index='Group', aggfunc=lambda x: len(x))\n",
    "df_summary['rate'] = df.pivot_table(values='Conversion Status', index='Group')\n",
    "df_summary"
   ]
  },
  {
   "cell_type": "code",
   "execution_count": 12,
   "metadata": {},
   "outputs": [
    {
     "data": {
      "text/markdown": [
       "## Our two group are currently binomial distributions. \n"
      ],
      "text/plain": [
       "<IPython.core.display.Markdown object>"
      ]
     },
     "metadata": {},
     "output_type": "display_data"
    }
   ],
   "source": [
    "%%markdown\n",
    "## Our two group are currently binomial distributions. "
   ]
  },
  {
   "cell_type": "code",
   "execution_count": 13,
   "metadata": {},
   "outputs": [
    {
     "name": "stdout",
     "output_type": "stream",
     "text": [
      "0.9499797488861887 0.9436981430264717 0.004488986791931093 0.0532\n"
     ]
    }
   ],
   "source": [
    "p1 =df_summary.rate.A #proportion of conversion of control group. \n",
    "p2 = df_summary.rate.B #proportion of conversion of treatment group.\n",
    "n1 = df_summary.total.A\n",
    "n2 = df_summary.total.B\n",
    "p = (df_summary['Conversion Status'].A + df_summary['Conversion Status'].B)/(n1+n2) #proportion of conversion of full poppulation.\n",
    "q1 = 1 - p1 \n",
    "q2 = 1 - p2 \n",
    "se = np.sqrt(p*(1-p)*(1/n1 + 1/n2))\n",
    "print(q1,q2,se,p)"
   ]
  },
  {
   "cell_type": "code",
   "execution_count": 14,
   "metadata": {},
   "outputs": [
    {
     "data": {
      "text/markdown": [
       "### Setting Significance Level = 0.01 \n",
       "\n",
       "### Null Hypothesis: p1 - p2 = 0 \n",
       "This is assuming that there is no significant difference between the proportions of the two groups. \n",
       "\n",
       "### Alternate Hypothesis: p2 != p1 \n",
       "We are performing a Two Tailed test to see if the the conversion rate of the treatment group is statistically different from the control group's. \n"
      ],
      "text/plain": [
       "<IPython.core.display.Markdown object>"
      ]
     },
     "metadata": {},
     "output_type": "display_data"
    }
   ],
   "source": [
    "%%markdown\n",
    "### Setting Significance Level = 0.01 \n",
    "\n",
    "### Null Hypothesis: p1 - p2 = 0 \n",
    "This is assuming that there is no significant difference between the proportions of the two groups. \n",
    "\n",
    "### Alternate Hypothesis: p2 != p1 \n",
    "We are performing a Two Tailed test to see if the the conversion rate of the treatment group is statistically different from the control group's. "
   ]
  },
  {
   "cell_type": "code",
   "execution_count": 15,
   "metadata": {},
   "outputs": [
    {
     "name": "stdout",
     "output_type": "stream",
     "text": [
      "-1.3993371223564544\n"
     ]
    }
   ],
   "source": [
    "# Best Estimate\n",
    "be = p1 - p2 \n",
    "\n",
    "# Test Statistic\n",
    "ts = be/se\n",
    "print(ts)"
   ]
  },
  {
   "cell_type": "code",
   "execution_count": 16,
   "metadata": {},
   "outputs": [
    {
     "name": "stdout",
     "output_type": "stream",
     "text": [
      "0.16171191256845063\n"
     ]
    }
   ],
   "source": [
    "p_value = 2*dist.norm.cdf(-np.abs(ts))\n",
    "print(p_value)"
   ]
  },
  {
   "cell_type": "code",
   "execution_count": 17,
   "metadata": {},
   "outputs": [
    {
     "data": {
      "text/markdown": [
       "Our p_Value >> Significance Level. \n",
       "### Therefore, we fail to reject our Null Hypothesis. \n",
       "### Inference: The two proportions are not significantly different and hence the treatment is not effective.\n"
      ],
      "text/plain": [
       "<IPython.core.display.Markdown object>"
      ]
     },
     "metadata": {},
     "output_type": "display_data"
    }
   ],
   "source": [
    "%%markdown\n",
    "Our p_Value >> Significance Level. \n",
    "### Therefore, we fail to reject our Null Hypothesis. \n",
    "### Inference: The two proportions are not significantly different and hence the treatment is not effective."
   ]
  },
  {
   "cell_type": "code",
   "execution_count": 18,
   "metadata": {},
   "outputs": [
    {
     "data": {
      "text/markdown": [
       "# Experiment 2\n",
       "## A/B testing across all days and only morning \n"
      ],
      "text/plain": [
       "<IPython.core.display.Markdown object>"
      ]
     },
     "metadata": {},
     "output_type": "display_data"
    }
   ],
   "source": [
    "%%markdown\n",
    "# Experiment 2\n",
    "## A/B testing across all days and only morning "
   ]
  },
  {
   "cell_type": "code",
   "execution_count": 19,
   "metadata": {},
   "outputs": [],
   "source": [
    "df_mornings = df[(df['Time'] >= datetime.time(8,0,0)) &\n",
    "       (df['Time'] < datetime.time(16,0,0))]"
   ]
  },
  {
   "cell_type": "code",
   "execution_count": 20,
   "metadata": {},
   "outputs": [
    {
     "data": {
      "text/html": [
       "<div>\n",
       "<style scoped>\n",
       "    .dataframe tbody tr th:only-of-type {\n",
       "        vertical-align: middle;\n",
       "    }\n",
       "\n",
       "    .dataframe tbody tr th {\n",
       "        vertical-align: top;\n",
       "    }\n",
       "\n",
       "    .dataframe thead th {\n",
       "        text-align: right;\n",
       "    }\n",
       "</style>\n",
       "<table border=\"1\" class=\"dataframe\">\n",
       "  <thead>\n",
       "    <tr style=\"text-align: right;\">\n",
       "      <th></th>\n",
       "      <th>Conversion Status</th>\n",
       "      <th>total</th>\n",
       "      <th>rate</th>\n",
       "    </tr>\n",
       "    <tr>\n",
       "      <th>Group</th>\n",
       "      <th></th>\n",
       "      <th></th>\n",
       "      <th></th>\n",
       "    </tr>\n",
       "  </thead>\n",
       "  <tbody>\n",
       "    <tr>\n",
       "      <td>A</td>\n",
       "      <td>92</td>\n",
       "      <td>1707</td>\n",
       "      <td>0.053896</td>\n",
       "    </tr>\n",
       "    <tr>\n",
       "      <td>B</td>\n",
       "      <td>41</td>\n",
       "      <td>1735</td>\n",
       "      <td>0.023631</td>\n",
       "    </tr>\n",
       "  </tbody>\n",
       "</table>\n",
       "</div>"
      ],
      "text/plain": [
       "       Conversion Status  total      rate\n",
       "Group                                    \n",
       "A                     92   1707  0.053896\n",
       "B                     41   1735  0.023631"
      ]
     },
     "execution_count": 20,
     "metadata": {},
     "output_type": "execute_result"
    }
   ],
   "source": [
    "df_summary = df_mornings.pivot_table(values='Conversion Status', index='Group', aggfunc=np.sum)\n",
    "df_summary['total'] = df_mornings.pivot_table(values='Conversion Status', index='Group', aggfunc=lambda x: len(x))\n",
    "df_summary['rate'] = df_mornings.pivot_table(values='Conversion Status', index='Group')\n",
    "df_summary"
   ]
  },
  {
   "cell_type": "code",
   "execution_count": 21,
   "metadata": {},
   "outputs": [
    {
     "name": "stdout",
     "output_type": "stream",
     "text": [
      "0.9461042765084944 0.9763688760806917 0.006570558267313205 0.03864032539221383\n"
     ]
    }
   ],
   "source": [
    "p1 =df_summary.rate.A #proportion of conversion of control group. \n",
    "p2 = df_summary.rate.B #proportion of conversion of treatment group.\n",
    "n1 = df_summary.total.A\n",
    "n2 = df_summary.total.B\n",
    "p = (df_summary['Conversion Status'].A + df_summary['Conversion Status'].B)/(n1+n2) #proportion of conversion of full poppulation.\n",
    "q1 = 1 - p1 \n",
    "q2 = 1 - p2 \n",
    "se = np.sqrt(p*(1-p)*(1/n1 + 1/n2))\n",
    "print(q1,q2,se,p)"
   ]
  },
  {
   "cell_type": "code",
   "execution_count": 22,
   "metadata": {},
   "outputs": [
    {
     "data": {
      "text/markdown": [
       "### Setting Significance Level = 0.01 \n",
       "\n",
       "### Null Hypothesis: p1 - p2 = 0 \n",
       "This is assuming that there is no significant difference between the proportions of the two groups. \n",
       "\n",
       "### Alternate Hypothesis: p2 != p1 \n",
       "We are performing a Two Tailed test to see if the the conversion rate of the treatment group is statistically different from the control group's. \n"
      ],
      "text/plain": [
       "<IPython.core.display.Markdown object>"
      ]
     },
     "metadata": {},
     "output_type": "display_data"
    }
   ],
   "source": [
    "%%markdown\n",
    "### Setting Significance Level = 0.01 \n",
    "\n",
    "### Null Hypothesis: p1 - p2 = 0 \n",
    "This is assuming that there is no significant difference between the proportions of the two groups. \n",
    "\n",
    "### Alternate Hypothesis: p2 != p1 \n",
    "We are performing a Two Tailed test to see if the the conversion rate of the treatment group is statistically different from the control group's. "
   ]
  },
  {
   "cell_type": "code",
   "execution_count": 23,
   "metadata": {},
   "outputs": [
    {
     "name": "stdout",
     "output_type": "stream",
     "text": [
      "4.606092563360348\n"
     ]
    }
   ],
   "source": [
    "# Best Estimate\n",
    "be = p1 - p2 \n",
    "\n",
    "# Test Statistic\n",
    "ts = be/se\n",
    "print(ts)"
   ]
  },
  {
   "cell_type": "code",
   "execution_count": 24,
   "metadata": {},
   "outputs": [
    {
     "name": "stdout",
     "output_type": "stream",
     "text": [
      "0.000004\n"
     ]
    }
   ],
   "source": [
    "p_value = 2*dist.norm.cdf(-np.abs(ts))\n",
    "print('{:f}'.format(p_value))"
   ]
  },
  {
   "cell_type": "code",
   "execution_count": 25,
   "metadata": {},
   "outputs": [
    {
     "data": {
      "text/markdown": [
       "Our p_Value < Significance Level. \n",
       "### Therefore, we accept our alternative Hypothesis. \n",
       "### Inference: The two proportions are significantly different, thus the treatment group does change the proportion of conversions. \n"
      ],
      "text/plain": [
       "<IPython.core.display.Markdown object>"
      ]
     },
     "metadata": {},
     "output_type": "display_data"
    }
   ],
   "source": [
    "%%markdown\n",
    "Our p_Value < Significance Level. \n",
    "### Therefore, we accept our alternative Hypothesis. \n",
    "### Inference: The two proportions are significantly different, thus the treatment group does change the proportion of conversions. "
   ]
  },
  {
   "cell_type": "code",
   "execution_count": 26,
   "metadata": {},
   "outputs": [
    {
     "data": {
      "text/markdown": [
       "# Experiment 3\n",
       "## A/B testing across all days and only Evenings. \n"
      ],
      "text/plain": [
       "<IPython.core.display.Markdown object>"
      ]
     },
     "metadata": {},
     "output_type": "display_data"
    }
   ],
   "source": [
    "%%markdown\n",
    "# Experiment 3\n",
    "## A/B testing across all days and only Evenings. "
   ]
  },
  {
   "cell_type": "code",
   "execution_count": 27,
   "metadata": {},
   "outputs": [],
   "source": [
    "df_evenings = df[(df['Time'] >= datetime.time(16,0,0)) &\n",
    "       (df['Time'] < datetime.time(23,59,59))]"
   ]
  },
  {
   "cell_type": "code",
   "execution_count": 28,
   "metadata": {},
   "outputs": [
    {
     "data": {
      "text/html": [
       "<div>\n",
       "<style scoped>\n",
       "    .dataframe tbody tr th:only-of-type {\n",
       "        vertical-align: middle;\n",
       "    }\n",
       "\n",
       "    .dataframe tbody tr th {\n",
       "        vertical-align: top;\n",
       "    }\n",
       "\n",
       "    .dataframe thead th {\n",
       "        text-align: right;\n",
       "    }\n",
       "</style>\n",
       "<table border=\"1\" class=\"dataframe\">\n",
       "  <thead>\n",
       "    <tr style=\"text-align: right;\">\n",
       "      <th></th>\n",
       "      <th>Conversion Status</th>\n",
       "      <th>total</th>\n",
       "      <th>rate</th>\n",
       "    </tr>\n",
       "    <tr>\n",
       "      <th>Group</th>\n",
       "      <th></th>\n",
       "      <th></th>\n",
       "      <th></th>\n",
       "    </tr>\n",
       "  </thead>\n",
       "  <tbody>\n",
       "    <tr>\n",
       "      <td>A</td>\n",
       "      <td>82</td>\n",
       "      <td>1635</td>\n",
       "      <td>0.050153</td>\n",
       "    </tr>\n",
       "    <tr>\n",
       "      <td>B</td>\n",
       "      <td>171</td>\n",
       "      <td>1681</td>\n",
       "      <td>0.101725</td>\n",
       "    </tr>\n",
       "  </tbody>\n",
       "</table>\n",
       "</div>"
      ],
      "text/plain": [
       "       Conversion Status  total      rate\n",
       "Group                                    \n",
       "A                     82   1635  0.050153\n",
       "B                    171   1681  0.101725"
      ]
     },
     "execution_count": 28,
     "metadata": {},
     "output_type": "execute_result"
    }
   ],
   "source": [
    "df_summary = df_evenings.pivot_table(values='Conversion Status', index='Group', aggfunc=np.sum)\n",
    "df_summary['total'] = df_evenings.pivot_table(values='Conversion Status', index='Group', aggfunc=lambda x: len(x))\n",
    "df_summary['rate'] = df_evenings.pivot_table(values='Conversion Status', index='Group')\n",
    "df_summary"
   ]
  },
  {
   "cell_type": "code",
   "execution_count": 29,
   "metadata": {},
   "outputs": [
    {
     "name": "stdout",
     "output_type": "stream",
     "text": [
      "0.9498470948012232 0.8982748364069006 0.009221121890509346 0.07629674306393244\n"
     ]
    }
   ],
   "source": [
    "p1 =df_summary.rate.A #proportion of conversion of control group. \n",
    "p2 = df_summary.rate.B #proportion of conversion of treatment group.\n",
    "n1 = df_summary.total.A\n",
    "n2 = df_summary.total.B\n",
    "p = (df_summary['Conversion Status'].A + df_summary['Conversion Status'].B)/(n1+n2) #proportion of conversion of full poppulation.\n",
    "q1 = 1 - p1 \n",
    "q2 = 1 - p2 \n",
    "se = np.sqrt(p*(1-p)*(1/n1 + 1/n2))\n",
    "print(q1,q2,se,p)"
   ]
  },
  {
   "cell_type": "code",
   "execution_count": 30,
   "metadata": {},
   "outputs": [
    {
     "data": {
      "text/markdown": [
       "### Setting Significance Level = 0.01 \n",
       "\n",
       "### Null Hypothesis: p1 - p2 = 0 \n",
       "This is assuming that there is no significant difference between the proportions of the two groups. \n",
       "\n",
       "### Alternate Hypothesis: p2 != p1 \n",
       "We are performing a Two Tailed test to see if the the conversion rate of the treatment group is statistically different from the control group's. \n"
      ],
      "text/plain": [
       "<IPython.core.display.Markdown object>"
      ]
     },
     "metadata": {},
     "output_type": "display_data"
    }
   ],
   "source": [
    "%%markdown\n",
    "### Setting Significance Level = 0.01 \n",
    "\n",
    "### Null Hypothesis: p1 - p2 = 0 \n",
    "This is assuming that there is no significant difference between the proportions of the two groups. \n",
    "\n",
    "### Alternate Hypothesis: p2 != p1 \n",
    "We are performing a Two Tailed test to see if the the conversion rate of the treatment group is statistically different from the control group's. "
   ]
  },
  {
   "cell_type": "code",
   "execution_count": 31,
   "metadata": {},
   "outputs": [
    {
     "name": "stdout",
     "output_type": "stream",
     "text": [
      "-5.592839895913565\n"
     ]
    }
   ],
   "source": [
    "# Best Estimate\n",
    "be = p1 - p2 \n",
    "\n",
    "# Test Statistic\n",
    "ts = be/se\n",
    "print(ts)"
   ]
  },
  {
   "cell_type": "code",
   "execution_count": 32,
   "metadata": {},
   "outputs": [
    {
     "name": "stdout",
     "output_type": "stream",
     "text": [
      "0.0000000223\n"
     ]
    }
   ],
   "source": [
    "p_value = 2*dist.norm.cdf(-np.abs(ts))\n",
    "print('{:.10f}'.format(p_value))"
   ]
  },
  {
   "cell_type": "code",
   "execution_count": 33,
   "metadata": {},
   "outputs": [
    {
     "data": {
      "text/markdown": [
       "Our p_Value < Significance Level. \n",
       "### Therefore, we accept our alternative Hypothesis. \n",
       "### Inference: The two proportions are significantly different, thus the treatment group does change the proportion of conversions. \n"
      ],
      "text/plain": [
       "<IPython.core.display.Markdown object>"
      ]
     },
     "metadata": {},
     "output_type": "display_data"
    }
   ],
   "source": [
    "%%markdown\n",
    "Our p_Value < Significance Level. \n",
    "### Therefore, we accept our alternative Hypothesis. \n",
    "### Inference: The two proportions are significantly different, thus the treatment group does change the proportion of conversions. "
   ]
  },
  {
   "cell_type": "code",
   "execution_count": 34,
   "metadata": {},
   "outputs": [
    {
     "data": {
      "text/html": [
       "<div>\n",
       "<style scoped>\n",
       "    .dataframe tbody tr th:only-of-type {\n",
       "        vertical-align: middle;\n",
       "    }\n",
       "\n",
       "    .dataframe tbody tr th {\n",
       "        vertical-align: top;\n",
       "    }\n",
       "\n",
       "    .dataframe thead th {\n",
       "        text-align: right;\n",
       "    }\n",
       "</style>\n",
       "<table border=\"1\" class=\"dataframe\">\n",
       "  <thead>\n",
       "    <tr style=\"text-align: right;\">\n",
       "      <th></th>\n",
       "      <th>Customer Id</th>\n",
       "      <th>Date</th>\n",
       "      <th>Group</th>\n",
       "      <th>Conversion Status</th>\n",
       "    </tr>\n",
       "  </thead>\n",
       "  <tbody>\n",
       "    <tr>\n",
       "      <td>8850</td>\n",
       "      <td>8851</td>\n",
       "      <td>2020-01-01 00:00:21</td>\n",
       "      <td>B</td>\n",
       "      <td>0</td>\n",
       "    </tr>\n",
       "    <tr>\n",
       "      <td>6045</td>\n",
       "      <td>6046</td>\n",
       "      <td>2020-01-01 00:00:50</td>\n",
       "      <td>A</td>\n",
       "      <td>0</td>\n",
       "    </tr>\n",
       "    <tr>\n",
       "      <td>1973</td>\n",
       "      <td>1974</td>\n",
       "      <td>2020-01-01 00:00:50</td>\n",
       "      <td>B</td>\n",
       "      <td>0</td>\n",
       "    </tr>\n",
       "    <tr>\n",
       "      <td>6181</td>\n",
       "      <td>6182</td>\n",
       "      <td>2020-01-01 00:01:28</td>\n",
       "      <td>A</td>\n",
       "      <td>0</td>\n",
       "    </tr>\n",
       "    <tr>\n",
       "      <td>8107</td>\n",
       "      <td>8108</td>\n",
       "      <td>2020-01-01 00:01:46</td>\n",
       "      <td>A</td>\n",
       "      <td>0</td>\n",
       "    </tr>\n",
       "    <tr>\n",
       "      <td>...</td>\n",
       "      <td>...</td>\n",
       "      <td>...</td>\n",
       "      <td>...</td>\n",
       "      <td>...</td>\n",
       "    </tr>\n",
       "    <tr>\n",
       "      <td>7268</td>\n",
       "      <td>7269</td>\n",
       "      <td>2020-01-02 23:59:12</td>\n",
       "      <td>B</td>\n",
       "      <td>0</td>\n",
       "    </tr>\n",
       "    <tr>\n",
       "      <td>2012</td>\n",
       "      <td>2013</td>\n",
       "      <td>2020-01-02 23:59:15</td>\n",
       "      <td>B</td>\n",
       "      <td>0</td>\n",
       "    </tr>\n",
       "    <tr>\n",
       "      <td>9062</td>\n",
       "      <td>9063</td>\n",
       "      <td>2020-01-02 23:59:19</td>\n",
       "      <td>A</td>\n",
       "      <td>0</td>\n",
       "    </tr>\n",
       "    <tr>\n",
       "      <td>9203</td>\n",
       "      <td>9204</td>\n",
       "      <td>2020-01-02 23:59:36</td>\n",
       "      <td>A</td>\n",
       "      <td>0</td>\n",
       "    </tr>\n",
       "    <tr>\n",
       "      <td>7745</td>\n",
       "      <td>7746</td>\n",
       "      <td>2020-01-02 23:59:38</td>\n",
       "      <td>B</td>\n",
       "      <td>0</td>\n",
       "    </tr>\n",
       "  </tbody>\n",
       "</table>\n",
       "<p>10000 rows × 4 columns</p>\n",
       "</div>"
      ],
      "text/plain": [
       "      Customer Id                Date Group  Conversion Status\n",
       "8850         8851 2020-01-01 00:00:21     B                  0\n",
       "6045         6046 2020-01-01 00:00:50     A                  0\n",
       "1973         1974 2020-01-01 00:00:50     B                  0\n",
       "6181         6182 2020-01-01 00:01:28     A                  0\n",
       "8107         8108 2020-01-01 00:01:46     A                  0\n",
       "...           ...                 ...   ...                ...\n",
       "7268         7269 2020-01-02 23:59:12     B                  0\n",
       "2012         2013 2020-01-02 23:59:15     B                  0\n",
       "9062         9063 2020-01-02 23:59:19     A                  0\n",
       "9203         9204 2020-01-02 23:59:36     A                  0\n",
       "7745         7746 2020-01-02 23:59:38     B                  0\n",
       "\n",
       "[10000 rows x 4 columns]"
      ]
     },
     "execution_count": 34,
     "metadata": {},
     "output_type": "execute_result"
    }
   ],
   "source": [
    "df.drop(['Time','Conversion Rate'],axis=1)"
   ]
  },
  {
   "cell_type": "code",
   "execution_count": null,
   "metadata": {},
   "outputs": [],
   "source": []
  }
 ],
 "metadata": {
  "kernelspec": {
   "display_name": "Python 3",
   "language": "python",
   "name": "python3"
  },
  "language_info": {
   "codemirror_mode": {
    "name": "ipython",
    "version": 3
   },
   "file_extension": ".py",
   "mimetype": "text/x-python",
   "name": "python",
   "nbconvert_exporter": "python",
   "pygments_lexer": "ipython3",
   "version": "3.7.6"
  }
 },
 "nbformat": 4,
 "nbformat_minor": 4
}
